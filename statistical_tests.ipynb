{
 "cells": [
  {
   "cell_type": "code",
   "execution_count": 1,
   "metadata": {
    "collapsed": true
   },
   "outputs": [
    {
     "data": {
      "text/plain": "   Unnamed: 0  age     status sex orientation body_type        diet    drinks  \\\n0           0   22     single   m    straight     curvy    anything  socially   \n1           1   35     single   m    straight   average       other     often   \n2           2   38  available   m    straight      thin    anything  socially   \n3           3   23     single   m    straight      thin  vegetarian  socially   \n4           4   29     single   m    straight  athletic         NaN  socially   \n\n       drugs           education ethnicity  height       income  \\\n0      never  college/university     mixed    75.0  unspecified   \n1  sometimes          space camp     white    70.0          avg   \n2        NaN     masters program       NaN    68.0  unspecified   \n3        NaN  college/university     white    71.0     below_25   \n4      never  college/university     mixed    66.0  unspecified   \n\n                         job  \\\n0  Transportation & Military   \n1      Service & Hospitality   \n2                        NaN   \n3                    Student   \n4           Creative & Media   \n\n                                          offspring             pets  \\\n0  Does Not Have a Kid, Does Not Want Any More Kids       Likes Both   \n1  Does Not Have a Kid, Does Not Want Any More Kids       Likes Both   \n2                                               NaN  Likes Only Cats   \n3  Does Not Have a Kid, Does Not Want Any More Kids  Likes Only Cats   \n4                                               NaN       Likes Both   \n\n      religion     smokes    speaks   preference  \n0  agnosticism  sometimes   english  adventurous  \n1  agnosticism         no   spanish  adventurous  \n2          NaN         no    others  adventurous  \n3          NaN         no    german     academic  \n4          NaN         no   english  adventurous  ",
      "text/html": "<div>\n<style scoped>\n    .dataframe tbody tr th:only-of-type {\n        vertical-align: middle;\n    }\n\n    .dataframe tbody tr th {\n        vertical-align: top;\n    }\n\n    .dataframe thead th {\n        text-align: right;\n    }\n</style>\n<table border=\"1\" class=\"dataframe\">\n  <thead>\n    <tr style=\"text-align: right;\">\n      <th></th>\n      <th>Unnamed: 0</th>\n      <th>age</th>\n      <th>status</th>\n      <th>sex</th>\n      <th>orientation</th>\n      <th>body_type</th>\n      <th>diet</th>\n      <th>drinks</th>\n      <th>drugs</th>\n      <th>education</th>\n      <th>ethnicity</th>\n      <th>height</th>\n      <th>income</th>\n      <th>job</th>\n      <th>offspring</th>\n      <th>pets</th>\n      <th>religion</th>\n      <th>smokes</th>\n      <th>speaks</th>\n      <th>preference</th>\n    </tr>\n  </thead>\n  <tbody>\n    <tr>\n      <th>0</th>\n      <td>0</td>\n      <td>22</td>\n      <td>single</td>\n      <td>m</td>\n      <td>straight</td>\n      <td>curvy</td>\n      <td>anything</td>\n      <td>socially</td>\n      <td>never</td>\n      <td>college/university</td>\n      <td>mixed</td>\n      <td>75.0</td>\n      <td>unspecified</td>\n      <td>Transportation &amp; Military</td>\n      <td>Does Not Have a Kid, Does Not Want Any More Kids</td>\n      <td>Likes Both</td>\n      <td>agnosticism</td>\n      <td>sometimes</td>\n      <td>english</td>\n      <td>adventurous</td>\n    </tr>\n    <tr>\n      <th>1</th>\n      <td>1</td>\n      <td>35</td>\n      <td>single</td>\n      <td>m</td>\n      <td>straight</td>\n      <td>average</td>\n      <td>other</td>\n      <td>often</td>\n      <td>sometimes</td>\n      <td>space camp</td>\n      <td>white</td>\n      <td>70.0</td>\n      <td>avg</td>\n      <td>Service &amp; Hospitality</td>\n      <td>Does Not Have a Kid, Does Not Want Any More Kids</td>\n      <td>Likes Both</td>\n      <td>agnosticism</td>\n      <td>no</td>\n      <td>spanish</td>\n      <td>adventurous</td>\n    </tr>\n    <tr>\n      <th>2</th>\n      <td>2</td>\n      <td>38</td>\n      <td>available</td>\n      <td>m</td>\n      <td>straight</td>\n      <td>thin</td>\n      <td>anything</td>\n      <td>socially</td>\n      <td>NaN</td>\n      <td>masters program</td>\n      <td>NaN</td>\n      <td>68.0</td>\n      <td>unspecified</td>\n      <td>NaN</td>\n      <td>NaN</td>\n      <td>Likes Only Cats</td>\n      <td>NaN</td>\n      <td>no</td>\n      <td>others</td>\n      <td>adventurous</td>\n    </tr>\n    <tr>\n      <th>3</th>\n      <td>3</td>\n      <td>23</td>\n      <td>single</td>\n      <td>m</td>\n      <td>straight</td>\n      <td>thin</td>\n      <td>vegetarian</td>\n      <td>socially</td>\n      <td>NaN</td>\n      <td>college/university</td>\n      <td>white</td>\n      <td>71.0</td>\n      <td>below_25</td>\n      <td>Student</td>\n      <td>Does Not Have a Kid, Does Not Want Any More Kids</td>\n      <td>Likes Only Cats</td>\n      <td>NaN</td>\n      <td>no</td>\n      <td>german</td>\n      <td>academic</td>\n    </tr>\n    <tr>\n      <th>4</th>\n      <td>4</td>\n      <td>29</td>\n      <td>single</td>\n      <td>m</td>\n      <td>straight</td>\n      <td>athletic</td>\n      <td>NaN</td>\n      <td>socially</td>\n      <td>never</td>\n      <td>college/university</td>\n      <td>mixed</td>\n      <td>66.0</td>\n      <td>unspecified</td>\n      <td>Creative &amp; Media</td>\n      <td>NaN</td>\n      <td>Likes Both</td>\n      <td>NaN</td>\n      <td>no</td>\n      <td>english</td>\n      <td>adventurous</td>\n    </tr>\n  </tbody>\n</table>\n</div>"
     },
     "execution_count": 1,
     "metadata": {},
     "output_type": "execute_result"
    }
   ],
   "source": [
    "import numpy as np\n",
    "import pandas as pd\n",
    "from matplotlib import pyplot as plt\n",
    "import seaborn as sns\n",
    "from sklearn import preprocessing\n",
    "\n",
    "# DataFrame\n",
    "df = pd.read_csv('cleaned_cupid.csv')\n",
    "df.head()"
   ]
  },
  {
   "cell_type": "markdown",
   "source": [
    "# Statistical test Ethnicity (white or other) vs. offspring"
   ],
   "metadata": {
    "collapsed": false
   }
  },
  {
   "cell_type": "code",
   "execution_count": 2,
   "outputs": [
    {
     "data": {
      "text/plain": "(48.70859093767093,\n 2.9696276539729606e-12,\n 1,\n array([[3407.23517554, 1705.76482446],\n        [4526.76482446, 2266.23517554]]),\n offspring             Does Not Have a Kid, Does Not Want Any More Kids  \\\n ethnicity_simplified                                                     \n other                                                             3229   \n white                                                             4705   \n \n offspring             Does Not Have a Kid, Want Kids  \n ethnicity_simplified                                  \n other                                           1884  \n white                                           2088  )"
     },
     "execution_count": 2,
     "metadata": {},
     "output_type": "execute_result"
    }
   ],
   "source": [
    "from scipy.stats import chi2_contingency\n",
    "\n",
    "# Step 1: Simplify ethnicity into 'white' and 'other'\n",
    "df['ethnicity_simplified'] = df['ethnicity'].apply(lambda x: 'other' if x != 'white' else 'white')\n",
    "\n",
    "# Step 2: Filter offspring categories\n",
    "offspring_categories = [\"Does Not Have a Kid, Does Not Want Any More Kids\", \"Does Not Have a Kid, Want Kids\"]\n",
    "filtered_df = df[df['offspring'].isin(offspring_categories)]\n",
    "\n",
    "# Prepare the contingency table for the chi-square test\n",
    "contingency_table = pd.crosstab(filtered_df['ethnicity_simplified'], filtered_df['offspring'])\n",
    "\n",
    "# Step 3: Perform the chi-square test\n",
    "chi2, p, dof, expected = chi2_contingency(contingency_table)\n",
    "\n",
    "chi2, p, dof, expected, contingency_table\n"
   ],
   "metadata": {
    "collapsed": false
   }
  },
  {
   "cell_type": "markdown",
   "source": [
    "The chi-square test of independence between ethnicity (simplified into \"white\" and \"other\") and offspring category (specifically, \"Does Not Have a Kid, Does Not Want Any More Kids\" and \"Does Not Have a Kid, Want Kids\") resulted in a chi-square statistic of approximately 48.71, with a p-value of approximately 2.97×10−12 and 1 degree of freedom.\n",
    "\n",
    "Given the very small p-value, we reject the null hypothesis of independence. This suggests that there is a significant association between the simplified ethnicity categories and the specified offspring categories. The expected frequencies, compared to the observed frequencies, indicate where the differences lie.\n"
   ],
   "metadata": {
    "collapsed": false
   }
  },
  {
   "cell_type": "markdown",
   "source": [
    "# Statistical test Men and Female (aged 27-35) vs. offspring"
   ],
   "metadata": {
    "collapsed": false
   }
  },
  {
   "cell_type": "code",
   "execution_count": 3,
   "outputs": [
    {
     "data": {
      "text/plain": "(153.60066183231143,\n 2.831397035176791e-35,\n 1,\n array([[1376.04679708,  980.95320292],\n        [1667.95320292, 1189.04679708]]),\n offspring  Does Not Have a Kid, Does Not Want Any More Kids  \\\n sex                                                           \n f                                                      1156   \n m                                                      1888   \n \n offspring  Does Not Have a Kid, Want Kids  \n sex                                        \n f                                    1201  \n m                                     969  )"
     },
     "execution_count": 3,
     "metadata": {},
     "output_type": "execute_result"
    }
   ],
   "source": [
    "# Filter the data for age 27-35 and sex (male or female)\n",
    "age_filtered_df = df[(df['age'] >= 27) & (df['age'] <= 35) & (df['sex'].isin(['m', 'f']))]\n",
    "\n",
    "# Filter offspring categories as before\n",
    "offspring_filtered_df = age_filtered_df[age_filtered_df['offspring'].isin(offspring_categories)]\n",
    "\n",
    "# Prepare the contingency table for the chi-square test\n",
    "contingency_table_age_sex = pd.crosstab(offspring_filtered_df['sex'], offspring_filtered_df['offspring'])\n",
    "\n",
    "# Perform the chi-square test\n",
    "chi2_age_sex, p_age_sex, dof_age_sex, expected_age_sex = chi2_contingency(contingency_table_age_sex)\n",
    "\n",
    "chi2_age_sex, p_age_sex, dof_age_sex, expected_age_sex, contingency_table_age_sex\n"
   ],
   "metadata": {
    "collapsed": false
   }
  },
  {
   "cell_type": "markdown",
   "source": [
    "The chi-square test of independence between gender (males vs. females within the age range of 27-35) and offspring category (specifically, \"Does Not Have a Kid, Does Not Want Any More Kids\" and \"Does Not Have a Kid, Want Kids\") resulted in a chi-square statistic of approximately 153.60, with a p-value of approximately 2.83×10−35 and 1 degree of freedom.\n",
    "\n",
    "With this very small p-value, we reject the null hypothesis of independence, indicating a significant association between gender within the specified age range and the specified offspring categories. The expected frequencies, compared to the observed frequencies, highlight the differences in preferences or situations regarding offspring.\n"
   ],
   "metadata": {
    "collapsed": false
   }
  },
  {
   "cell_type": "markdown",
   "source": [
    "# Statistical test Religion vs. offspring"
   ],
   "metadata": {
    "collapsed": false
   }
  },
  {
   "cell_type": "code",
   "execution_count": 4,
   "outputs": [
    {
     "data": {
      "text/plain": "(370.7478629358021,\n 3.358662501565251e-75,\n 8,\n array([[570.71613723, 381.28386277],\n        [498.17763659, 332.82236341],\n        [ 97.11766201,  64.88233799],\n        [285.95756036, 191.04243964],\n        [331.51893266, 221.48106734],\n        [ 23.38017789,  15.61982211],\n        [  7.19390089,   4.80609911],\n        [149.8729352 , 100.1270648 ],\n        [395.06505718, 263.93494282]]),\n offspring     Does Not Have a Kid, Does Not Want Any More Kids  \\\n religion                                                         \n agnosticism                                                628   \n atheism                                                    651   \n buddhism                                                    96   \n catholicism                                                185   \n christianity                                               222   \n \n offspring     Does Not Have a Kid, Want Kids  \n religion                                      \n agnosticism                              324  \n atheism                                  180  \n buddhism                                  66  \n catholicism                              292  \n christianity                             331  )"
     },
     "execution_count": 4,
     "metadata": {},
     "output_type": "execute_result"
    }
   ],
   "source": [
    "# Filter offspring categories as before (no need to filter again, using offspring_filtered_df)\n",
    "# Prepare the contingency table for the chi-square test between religion and offspring categories\n",
    "contingency_table_religion = pd.crosstab(offspring_filtered_df['religion'], offspring_filtered_df['offspring'])\n",
    "\n",
    "# Perform the chi-square test\n",
    "chi2_religion, p_religion, dof_religion, expected_religion = chi2_contingency(contingency_table_religion)\n",
    "\n",
    "chi2_religion, p_religion, dof_religion, expected_religion, contingency_table_religion.head()\n"
   ],
   "metadata": {
    "collapsed": false
   }
  },
  {
   "cell_type": "markdown",
   "source": [
    "The chi-square test of independence between religion and offspring category (specifically, \"Does Not Have a Kid, Does Not Want Any More Kids\" and \"Does Not Have a Kid, Want Kids\") yielded a chi-square statistic of approximately 370.75, with a p-value of approximately\n",
    "3.36×10 −75 and 8 degrees of freedom.\n",
    "\n",
    "Given this extremely small p-value, we reject the null hypothesis of independence, indicating a significant association between religious affiliation and the specified offspring categories. The expected frequencies, compared to the observed frequencies, suggest differences in offspring preferences or situations across different religions."
   ],
   "metadata": {
    "collapsed": false
   }
  },
  {
   "cell_type": "markdown",
   "source": [
    "# Statistical test Education level vs. offspring"
   ],
   "metadata": {
    "collapsed": false
   }
  },
  {
   "cell_type": "code",
   "execution_count": 5,
   "outputs": [
    {
     "name": "stderr",
     "output_type": "stream",
     "text": [
      "<ipython-input-5-e2a5ff1b5b13>:5: SettingWithCopyWarning: \n",
      "A value is trying to be set on a copy of a slice from a DataFrame.\n",
      "Try using .loc[row_indexer,col_indexer] = value instead\n",
      "\n",
      "See the caveats in the documentation: https://pandas.pydata.org/pandas-docs/stable/user_guide/indexing.html#returning-a-view-versus-a-copy\n",
      "  offspring_filtered_df['high_educated'] = offspring_filtered_df['education'].isin(high_education_levels).map({True: 'Highly Educated', False: 'Not Highly Educated'})\n"
     ]
    },
    {
     "data": {
      "text/plain": "(50.224453690427254,\n 1.371282982810214e-12,\n 1,\n array([[ 922.42424242,  657.57575758],\n        [2121.57575758, 1512.42424242]]),\n offspring            Does Not Have a Kid, Does Not Want Any More Kids  \\\n high_educated                                                           \n Highly Educated                                                   806   \n Not Highly Educated                                              2238   \n \n offspring            Does Not Have a Kid, Want Kids  \n high_educated                                        \n Highly Educated                                 774  \n Not Highly Educated                            1396  )"
     },
     "execution_count": 5,
     "metadata": {},
     "output_type": "execute_result"
    }
   ],
   "source": [
    "# Define high education levels\n",
    "high_education_levels = ['masters program', 'law school', 'med school', 'ph.d program']\n",
    "\n",
    "# Filter the dataset for high education levels\n",
    "offspring_filtered_df['high_educated'] = offspring_filtered_df['education'].isin(high_education_levels).map({True: 'Highly Educated', False: 'Not Highly Educated'})\n",
    "\n",
    "# Prepare the contingency table for the chi-square test between high education levels and offspring categories\n",
    "contingency_table_education = pd.crosstab(offspring_filtered_df['high_educated'], offspring_filtered_df['offspring'])\n",
    "\n",
    "# Perform the chi-square test\n",
    "chi2_education, p_education, dof_education, expected_education = chi2_contingency(contingency_table_education)\n",
    "\n",
    "chi2_education, p_education, dof_education, expected_education, contingency_table_education\n"
   ],
   "metadata": {
    "collapsed": false
   }
  },
  {
   "cell_type": "markdown",
   "source": [
    "The chi-square test of independence between high education level (categorized as \"Highly Educated\" for those with masters, law, med, or Ph.D. programs and \"Not Highly Educated\" for all others) and offspring category (specifically, \"Does Not Have a Kid, Does Not Want Any More Kids\" and \"Does Not Have a Kid, Want Kids\") resulted in a chi-square statistic of approximately 50.22, with a p-value of approximately 1.37×10−12 and 1 degree of freedom.\n",
    "\n",
    "With this significantly small p-value, we reject the null hypothesis of independence, suggesting a significant association between the level of education and the specified offspring categories. The expected frequencies, when compared to the observed frequencies, indicate the differences in preferences or situations regarding offspring among different education levels.\n"
   ],
   "metadata": {
    "collapsed": false
   }
  },
  {
   "cell_type": "code",
   "execution_count": null,
   "outputs": [],
   "source": [],
   "metadata": {
    "collapsed": false
   }
  }
 ],
 "metadata": {
  "kernelspec": {
   "display_name": "Python 3",
   "language": "python",
   "name": "python3"
  },
  "language_info": {
   "codemirror_mode": {
    "name": "ipython",
    "version": 2
   },
   "file_extension": ".py",
   "mimetype": "text/x-python",
   "name": "python",
   "nbconvert_exporter": "python",
   "pygments_lexer": "ipython2",
   "version": "2.7.6"
  }
 },
 "nbformat": 4,
 "nbformat_minor": 0
}
