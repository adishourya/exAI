{
 "cells": [
  {
   "cell_type": "code",
   "execution_count": 1,
   "id": "initial_id",
   "metadata": {
    "collapsed": true,
    "ExecuteTime": {
     "end_time": "2024-02-26T09:18:27.385124Z",
     "start_time": "2024-02-26T09:18:27.106560Z"
    }
   },
   "outputs": [],
   "source": [
    "import numpy as np , pandas as pd "
   ]
  },
  {
   "cell_type": "code",
   "execution_count": 2,
   "outputs": [],
   "source": [
    "cupid = pd.read_csv('../okcupid.csv')"
   ],
   "metadata": {
    "collapsed": false,
    "ExecuteTime": {
     "end_time": "2024-02-26T09:18:28.501014Z",
     "start_time": "2024-02-26T09:18:27.384776Z"
    }
   },
   "id": "ece8233e0711b68b"
  },
  {
   "cell_type": "code",
   "execution_count": 3,
   "outputs": [
    {
     "data": {
      "text/plain": "       age     status sex orientation       body_type               diet  \\\n0       22     single   m    straight  a little extra  strictly anything   \n1       35     single   m    straight         average       mostly other   \n2       38  available   m    straight            thin           anything   \n3       23     single   m    straight            thin         vegetarian   \n4       29     single   m    straight        athletic                NaN   \n...    ...        ...  ..         ...             ...                ...   \n59941   59     single   f    straight             NaN                NaN   \n59942   24     single   m    straight             fit    mostly anything   \n59943   42     single   m    straight         average    mostly anything   \n59944   27     single   m    straight        athletic    mostly anything   \n59945   39     single   m         gay         average                NaN   \n\n           drinks      drugs                          education  \\\n0        socially      never      working on college/university   \n1           often  sometimes              working on space camp   \n2        socially        NaN     graduated from masters program   \n3        socially        NaN      working on college/university   \n4        socially      never  graduated from college/university   \n...           ...        ...                                ...   \n59941    socially      never  graduated from college/university   \n59942       often  sometimes      working on college/university   \n59943  not at all      never     graduated from masters program   \n59944    socially      often      working on college/university   \n59945    socially        NaN     graduated from masters program   \n\n                 ethnicity  ...  \\\n0             asian, white  ...   \n1                    white  ...   \n2                      NaN  ...   \n3                    white  ...   \n4      asian, black, other  ...   \n...                    ...  ...   \n59941                  NaN  ...   \n59942         white, other  ...   \n59943                asian  ...   \n59944         asian, black  ...   \n59945                white  ...   \n\n                                                  essay0  \\\n0      about me:  i would love to think that i was so...   \n1      i am a chef: this is what that means. 1. i am ...   \n2      i'm not ashamed of much, but writing public te...   \n3              i work in a library and go to school. . .   \n4      hey how's it going? currently vague on the pro...   \n...                                                  ...   \n59941  vibrant, expressive, caring optimist. i love b...   \n59942  i'm nick. i never know what to write about mys...   \n59943  hello! i enjoy traveling, watching movies, and...   \n59944  \"all i have in this world are my balls and my ...   \n59945  is it odd that having a little \"enemy\" status ...   \n\n                                                  essay1  \\\n0      currently working as an international agent fo...   \n1      dedicating everyday to being an unbelievable b...   \n2      i make nerdy software for musicians, artists, ...   \n3              reading things written by old dead people   \n4                             work work work work + play   \n...                                                  ...   \n59941  the happiest times have been when life came to...   \n59942  currently finishing school for film production...   \n59943  i'm a civil engineer, who enjoys helping the c...   \n59944  following my dreams... \"you got a dream... you...   \n59945  i work with elderly people (psychotherapy and ...   \n\n                                                  essay2  \\\n0      making people laugh. ranting about a good salt...   \n1      being silly. having ridiculous amonts of fun w...   \n2      improvising in different contexts. alternating...   \n3      playing synthesizers and organizing books acco...   \n4      creating imagery to look at: http://bagsbrown....   \n...                                                  ...   \n59941  i make an outstanding osso bucco. i am also ve...   \n59942  filmmaking, photography, graphic design, web d...   \n59943  - looking at things objectively - getting thin...   \n59944                                          listening   \n59945  i'm a great bullshitter. i don't know what it ...   \n\n                                                  essay3  \\\n0      the way i look. i am a six foot half asian, ha...   \n1                                                    NaN   \n2      my large jaw and large glasses are the physica...   \n3                      socially awkward but i do my best   \n4                i smile a lot and my inquisitive nature   \n...                                                  ...   \n59941  i am told that people notice my smile, eyes an...   \n59942                                dude, i don't know.   \n59943  i'm quiet until i get used to the environment ...   \n59944  it used to be the hair until i mowed it off bu...   \n59945  either that i am funny/sarcastic, or that i am...   \n\n                                                  essay4  \\\n0      books: absurdistan, the republic, of mice and ...   \n1      i am die hard christopher moore fan. i don't r...   \n2      okay this is where the cultural matrix gets so...   \n3      bataille, celine, beckett. . . lynch, jarmusch...   \n4      music: bands, rappers, musicians at the moment...   \n...                                                  ...   \n59941  i am an avid movie watcher and follow the broa...   \n59942  movies: hook (the greatest adventure ever!), g...   \n59943  last book: \"game change\". movies: bourne serie...   \n59944  where to begin musically: right now i listen t...   \n59945  i just read the help by kathryn stockett, sooo...   \n\n                                                  essay5  \\\n0                      food. water. cell phone. shelter.   \n1      delicious porkness in all of its glories. my b...   \n2      movement conversation creation contemplation t...   \n3                                                    NaN   \n4                                                    NaN   \n...                                                  ...   \n59941         my family, my dog, italy, words and music!   \n59942  iphone contact lenses headphones camera tv rem...   \n59943  - iphone - friends and family - internet - bay...   \n59944  music, family, friends, a basketball, hoop, so...   \n59945  1. family & friends & other humans - interacti...   \n\n                                                  essay6  \\\n0                            duality and humorous things   \n1                                                    NaN   \n2                                                    NaN   \n3                             cats and german philosophy   \n4                                                    NaN   \n...                                                  ...   \n59941                                   writing my book.   \n59942  i do most of my thinking on the bus to/from wo...   \n59943           aside from work, how to improve my home.   \n59944          what can i do to make someone chuckle....   \n59945  sex, myself, other people, how amazing everyth...   \n\n                                                  essay7  \\\n0      trying to find someone to hang out with. i am ...   \n1                                                    NaN   \n2      viewing. listening. dancing. talking. drinking...   \n3                                                    NaN   \n4                                                    NaN   \n...                                                  ...   \n59941  running with my dog, finishing up the work wee...   \n59942      bringin' home bacon, or drinking and shakin'!   \n59943    out enjoying friendly conversation over dinner.   \n59944  what i would do on any other day. everydays a ...   \n59945  out at happy hour with my friends, running int...   \n\n                                                  essay8  \\\n0      i am new to california and looking for someone...   \n1      i am very open and will share just about anyth...   \n2      when i was five years old, i was known as \"the...   \n3                                                    NaN   \n4                                                    NaN   \n...                                                  ...   \n59941  i have a dream to sing at the alconquin in nyc...   \n59942  when i was 18 i got a tattoo of waldo somewher...   \n59943               please let me think about this more.   \n59944  i like walking around in other people's house ...   \n59945  i wish i could cry like holly hunter in broadc...   \n\n                                                  essay9  \n0      you want to be swept off your feet! you are ti...  \n1                                                    NaN  \n2      you are bright, open, intense, silly, ironic, ...  \n3                                  you feel so inclined.  \n4                                                    NaN  \n...                                                  ...  \n59941  you are seeking a long term connection of shar...  \n59942     meh if you made it this far you might as well.  \n59943                         we have similar interests.  \n59944              you are interested and interesting...  \n59945  if you have a back-bone, an opinion, a sense o...  \n\n[59946 rows x 31 columns]",
      "text/html": "<div>\n<style scoped>\n    .dataframe tbody tr th:only-of-type {\n        vertical-align: middle;\n    }\n\n    .dataframe tbody tr th {\n        vertical-align: top;\n    }\n\n    .dataframe thead th {\n        text-align: right;\n    }\n</style>\n<table border=\"1\" class=\"dataframe\">\n  <thead>\n    <tr style=\"text-align: right;\">\n      <th></th>\n      <th>age</th>\n      <th>status</th>\n      <th>sex</th>\n      <th>orientation</th>\n      <th>body_type</th>\n      <th>diet</th>\n      <th>drinks</th>\n      <th>drugs</th>\n      <th>education</th>\n      <th>ethnicity</th>\n      <th>...</th>\n      <th>essay0</th>\n      <th>essay1</th>\n      <th>essay2</th>\n      <th>essay3</th>\n      <th>essay4</th>\n      <th>essay5</th>\n      <th>essay6</th>\n      <th>essay7</th>\n      <th>essay8</th>\n      <th>essay9</th>\n    </tr>\n  </thead>\n  <tbody>\n    <tr>\n      <th>0</th>\n      <td>22</td>\n      <td>single</td>\n      <td>m</td>\n      <td>straight</td>\n      <td>a little extra</td>\n      <td>strictly anything</td>\n      <td>socially</td>\n      <td>never</td>\n      <td>working on college/university</td>\n      <td>asian, white</td>\n      <td>...</td>\n      <td>about me:  i would love to think that i was so...</td>\n      <td>currently working as an international agent fo...</td>\n      <td>making people laugh. ranting about a good salt...</td>\n      <td>the way i look. i am a six foot half asian, ha...</td>\n      <td>books: absurdistan, the republic, of mice and ...</td>\n      <td>food. water. cell phone. shelter.</td>\n      <td>duality and humorous things</td>\n      <td>trying to find someone to hang out with. i am ...</td>\n      <td>i am new to california and looking for someone...</td>\n      <td>you want to be swept off your feet! you are ti...</td>\n    </tr>\n    <tr>\n      <th>1</th>\n      <td>35</td>\n      <td>single</td>\n      <td>m</td>\n      <td>straight</td>\n      <td>average</td>\n      <td>mostly other</td>\n      <td>often</td>\n      <td>sometimes</td>\n      <td>working on space camp</td>\n      <td>white</td>\n      <td>...</td>\n      <td>i am a chef: this is what that means. 1. i am ...</td>\n      <td>dedicating everyday to being an unbelievable b...</td>\n      <td>being silly. having ridiculous amonts of fun w...</td>\n      <td>NaN</td>\n      <td>i am die hard christopher moore fan. i don't r...</td>\n      <td>delicious porkness in all of its glories. my b...</td>\n      <td>NaN</td>\n      <td>NaN</td>\n      <td>i am very open and will share just about anyth...</td>\n      <td>NaN</td>\n    </tr>\n    <tr>\n      <th>2</th>\n      <td>38</td>\n      <td>available</td>\n      <td>m</td>\n      <td>straight</td>\n      <td>thin</td>\n      <td>anything</td>\n      <td>socially</td>\n      <td>NaN</td>\n      <td>graduated from masters program</td>\n      <td>NaN</td>\n      <td>...</td>\n      <td>i'm not ashamed of much, but writing public te...</td>\n      <td>i make nerdy software for musicians, artists, ...</td>\n      <td>improvising in different contexts. alternating...</td>\n      <td>my large jaw and large glasses are the physica...</td>\n      <td>okay this is where the cultural matrix gets so...</td>\n      <td>movement conversation creation contemplation t...</td>\n      <td>NaN</td>\n      <td>viewing. listening. dancing. talking. drinking...</td>\n      <td>when i was five years old, i was known as \"the...</td>\n      <td>you are bright, open, intense, silly, ironic, ...</td>\n    </tr>\n    <tr>\n      <th>3</th>\n      <td>23</td>\n      <td>single</td>\n      <td>m</td>\n      <td>straight</td>\n      <td>thin</td>\n      <td>vegetarian</td>\n      <td>socially</td>\n      <td>NaN</td>\n      <td>working on college/university</td>\n      <td>white</td>\n      <td>...</td>\n      <td>i work in a library and go to school. . .</td>\n      <td>reading things written by old dead people</td>\n      <td>playing synthesizers and organizing books acco...</td>\n      <td>socially awkward but i do my best</td>\n      <td>bataille, celine, beckett. . . lynch, jarmusch...</td>\n      <td>NaN</td>\n      <td>cats and german philosophy</td>\n      <td>NaN</td>\n      <td>NaN</td>\n      <td>you feel so inclined.</td>\n    </tr>\n    <tr>\n      <th>4</th>\n      <td>29</td>\n      <td>single</td>\n      <td>m</td>\n      <td>straight</td>\n      <td>athletic</td>\n      <td>NaN</td>\n      <td>socially</td>\n      <td>never</td>\n      <td>graduated from college/university</td>\n      <td>asian, black, other</td>\n      <td>...</td>\n      <td>hey how's it going? currently vague on the pro...</td>\n      <td>work work work work + play</td>\n      <td>creating imagery to look at: http://bagsbrown....</td>\n      <td>i smile a lot and my inquisitive nature</td>\n      <td>music: bands, rappers, musicians at the moment...</td>\n      <td>NaN</td>\n      <td>NaN</td>\n      <td>NaN</td>\n      <td>NaN</td>\n      <td>NaN</td>\n    </tr>\n    <tr>\n      <th>...</th>\n      <td>...</td>\n      <td>...</td>\n      <td>...</td>\n      <td>...</td>\n      <td>...</td>\n      <td>...</td>\n      <td>...</td>\n      <td>...</td>\n      <td>...</td>\n      <td>...</td>\n      <td>...</td>\n      <td>...</td>\n      <td>...</td>\n      <td>...</td>\n      <td>...</td>\n      <td>...</td>\n      <td>...</td>\n      <td>...</td>\n      <td>...</td>\n      <td>...</td>\n      <td>...</td>\n    </tr>\n    <tr>\n      <th>59941</th>\n      <td>59</td>\n      <td>single</td>\n      <td>f</td>\n      <td>straight</td>\n      <td>NaN</td>\n      <td>NaN</td>\n      <td>socially</td>\n      <td>never</td>\n      <td>graduated from college/university</td>\n      <td>NaN</td>\n      <td>...</td>\n      <td>vibrant, expressive, caring optimist. i love b...</td>\n      <td>the happiest times have been when life came to...</td>\n      <td>i make an outstanding osso bucco. i am also ve...</td>\n      <td>i am told that people notice my smile, eyes an...</td>\n      <td>i am an avid movie watcher and follow the broa...</td>\n      <td>my family, my dog, italy, words and music!</td>\n      <td>writing my book.</td>\n      <td>running with my dog, finishing up the work wee...</td>\n      <td>i have a dream to sing at the alconquin in nyc...</td>\n      <td>you are seeking a long term connection of shar...</td>\n    </tr>\n    <tr>\n      <th>59942</th>\n      <td>24</td>\n      <td>single</td>\n      <td>m</td>\n      <td>straight</td>\n      <td>fit</td>\n      <td>mostly anything</td>\n      <td>often</td>\n      <td>sometimes</td>\n      <td>working on college/university</td>\n      <td>white, other</td>\n      <td>...</td>\n      <td>i'm nick. i never know what to write about mys...</td>\n      <td>currently finishing school for film production...</td>\n      <td>filmmaking, photography, graphic design, web d...</td>\n      <td>dude, i don't know.</td>\n      <td>movies: hook (the greatest adventure ever!), g...</td>\n      <td>iphone contact lenses headphones camera tv rem...</td>\n      <td>i do most of my thinking on the bus to/from wo...</td>\n      <td>bringin' home bacon, or drinking and shakin'!</td>\n      <td>when i was 18 i got a tattoo of waldo somewher...</td>\n      <td>meh if you made it this far you might as well.</td>\n    </tr>\n    <tr>\n      <th>59943</th>\n      <td>42</td>\n      <td>single</td>\n      <td>m</td>\n      <td>straight</td>\n      <td>average</td>\n      <td>mostly anything</td>\n      <td>not at all</td>\n      <td>never</td>\n      <td>graduated from masters program</td>\n      <td>asian</td>\n      <td>...</td>\n      <td>hello! i enjoy traveling, watching movies, and...</td>\n      <td>i'm a civil engineer, who enjoys helping the c...</td>\n      <td>- looking at things objectively - getting thin...</td>\n      <td>i'm quiet until i get used to the environment ...</td>\n      <td>last book: \"game change\". movies: bourne serie...</td>\n      <td>- iphone - friends and family - internet - bay...</td>\n      <td>aside from work, how to improve my home.</td>\n      <td>out enjoying friendly conversation over dinner.</td>\n      <td>please let me think about this more.</td>\n      <td>we have similar interests.</td>\n    </tr>\n    <tr>\n      <th>59944</th>\n      <td>27</td>\n      <td>single</td>\n      <td>m</td>\n      <td>straight</td>\n      <td>athletic</td>\n      <td>mostly anything</td>\n      <td>socially</td>\n      <td>often</td>\n      <td>working on college/university</td>\n      <td>asian, black</td>\n      <td>...</td>\n      <td>\"all i have in this world are my balls and my ...</td>\n      <td>following my dreams... \"you got a dream... you...</td>\n      <td>listening</td>\n      <td>it used to be the hair until i mowed it off bu...</td>\n      <td>where to begin musically: right now i listen t...</td>\n      <td>music, family, friends, a basketball, hoop, so...</td>\n      <td>what can i do to make someone chuckle....</td>\n      <td>what i would do on any other day. everydays a ...</td>\n      <td>i like walking around in other people's house ...</td>\n      <td>you are interested and interesting...</td>\n    </tr>\n    <tr>\n      <th>59945</th>\n      <td>39</td>\n      <td>single</td>\n      <td>m</td>\n      <td>gay</td>\n      <td>average</td>\n      <td>NaN</td>\n      <td>socially</td>\n      <td>NaN</td>\n      <td>graduated from masters program</td>\n      <td>white</td>\n      <td>...</td>\n      <td>is it odd that having a little \"enemy\" status ...</td>\n      <td>i work with elderly people (psychotherapy and ...</td>\n      <td>i'm a great bullshitter. i don't know what it ...</td>\n      <td>either that i am funny/sarcastic, or that i am...</td>\n      <td>i just read the help by kathryn stockett, sooo...</td>\n      <td>1. family &amp; friends &amp; other humans - interacti...</td>\n      <td>sex, myself, other people, how amazing everyth...</td>\n      <td>out at happy hour with my friends, running int...</td>\n      <td>i wish i could cry like holly hunter in broadc...</td>\n      <td>if you have a back-bone, an opinion, a sense o...</td>\n    </tr>\n  </tbody>\n</table>\n<p>59946 rows × 31 columns</p>\n</div>"
     },
     "execution_count": 3,
     "metadata": {},
     "output_type": "execute_result"
    }
   ],
   "source": [
    "cupid"
   ],
   "metadata": {
    "collapsed": false,
    "ExecuteTime": {
     "end_time": "2024-02-26T09:18:28.564481Z",
     "start_time": "2024-02-26T09:18:28.504892Z"
    }
   },
   "id": "972ccdc5ce432327"
  },
  {
   "cell_type": "code",
   "execution_count": 4,
   "outputs": [],
   "source": [
    "# essay0- My self summary\n",
    "# essay1- What I’m doing with my life\n",
    "# essay2- I’m really good at\n",
    "# essay3- The first thing people usually notice about me\n",
    "# essay4- Favorite books, movies, show, music, and food\n",
    "# essay5- The six things I could never do without\n",
    "# essay6- I spend a lot of time thinking about\n",
    "# essay7- On a typical Friday night I am\n",
    "# essay8- The most private thing I am willing to admit\n",
    "# essay9- You should message me if..."
   ],
   "metadata": {
    "collapsed": false,
    "ExecuteTime": {
     "end_time": "2024-02-26T09:18:28.568713Z",
     "start_time": "2024-02-26T09:18:28.564323Z"
    }
   },
   "id": "51ee010c9a7f523a"
  },
  {
   "cell_type": "code",
   "execution_count": 5,
   "outputs": [
    {
     "data": {
      "text/plain": "array(['strictly anything', 'mostly other', 'anything', 'vegetarian', nan,\n       'mostly anything', 'mostly vegetarian', 'strictly vegan',\n       'strictly vegetarian', 'mostly vegan', 'strictly other',\n       'mostly halal', 'other', 'vegan', 'mostly kosher',\n       'strictly halal', 'halal', 'strictly kosher', 'kosher'],\n      dtype=object)"
     },
     "execution_count": 5,
     "metadata": {},
     "output_type": "execute_result"
    }
   ],
   "source": [
    "cupid[\"diet\"].unique()"
   ],
   "metadata": {
    "collapsed": false,
    "ExecuteTime": {
     "end_time": "2024-02-26T09:18:43.947400Z",
     "start_time": "2024-02-26T09:18:43.928092Z"
    }
   },
   "id": "b987e1082dd1af0c"
  },
  {
   "cell_type": "code",
   "execution_count": 6,
   "outputs": [
    {
     "data": {
      "text/plain": "0        you want to be swept off your feet! you are ti...\n1                                                      NaN\n2        you are bright, open, intense, silly, ironic, ...\n3                                    you feel so inclined.\n4                                                      NaN\n                               ...                        \n59941    you are seeking a long term connection of shar...\n59942       meh if you made it this far you might as well.\n59943                           we have similar interests.\n59944                you are interested and interesting...\n59945    if you have a back-bone, an opinion, a sense o...\nName: essay9, Length: 59946, dtype: object"
     },
     "execution_count": 6,
     "metadata": {},
     "output_type": "execute_result"
    }
   ],
   "source": [
    "cupid[\"essay9\"]"
   ],
   "metadata": {
    "collapsed": false,
    "ExecuteTime": {
     "end_time": "2024-02-26T10:02:22.724593Z",
     "start_time": "2024-02-26T10:02:22.711172Z"
    }
   },
   "id": "8a9e4c7e7314ab3d"
  },
  {
   "cell_type": "code",
   "execution_count": 7,
   "outputs": [
    {
     "data": {
      "text/plain": "Index(['age', 'status', 'sex', 'orientation', 'body_type', 'diet', 'drinks',\n       'drugs', 'education', 'ethnicity', 'height', 'income', 'job',\n       'last_online', 'location', 'offspring', 'pets', 'religion', 'sign',\n       'smokes', 'speaks', 'essay0', 'essay1', 'essay2', 'essay3', 'essay4',\n       'essay5', 'essay6', 'essay7', 'essay8', 'essay9'],\n      dtype='object')"
     },
     "execution_count": 7,
     "metadata": {},
     "output_type": "execute_result"
    }
   ],
   "source": [
    "cupid.columns"
   ],
   "metadata": {
    "collapsed": false,
    "ExecuteTime": {
     "end_time": "2024-02-26T10:11:52.583442Z",
     "start_time": "2024-02-26T10:11:52.575657Z"
    }
   },
   "id": "90c679c696899920"
  },
  {
   "cell_type": "code",
   "execution_count": 8,
   "outputs": [
    {
     "data": {
      "text/plain": "0                                                  english\n1        english (fluently), spanish (poorly), french (...\n2                                     english, french, c++\n3                                 english, german (poorly)\n4                                                  english\n                               ...                        \n59941                                              english\n59942                                   english (fluently)\n59943                                   english (fluently)\n59944    english (fluently), spanish (poorly), chinese ...\n59945                                              english\nName: speaks, Length: 59946, dtype: object"
     },
     "execution_count": 8,
     "metadata": {},
     "output_type": "execute_result"
    }
   ],
   "source": [
    "cupid.speaks"
   ],
   "metadata": {
    "collapsed": false,
    "ExecuteTime": {
     "end_time": "2024-02-26T10:14:25.743839Z",
     "start_time": "2024-02-26T10:14:25.740311Z"
    }
   },
   "id": "a315ba251f35d733"
  },
  {
   "cell_type": "code",
   "execution_count": 9,
   "outputs": [
    {
     "data": {
      "text/plain": "0        about me:  i would love to think that i was so...\n1        i am a chef: this is what that means. 1. i am ...\n2        i'm not ashamed of much, but writing public te...\n3                i work in a library and go to school. . .\n4        hey how's it going? currently vague on the pro...\n                               ...                        \n59941    vibrant, expressive, caring optimist. i love b...\n59942    i'm nick. i never know what to write about mys...\n59943    hello! i enjoy traveling, watching movies, and...\n59944    \"all i have in this world are my balls and my ...\n59945    is it odd that having a little \"enemy\" status ...\nName: essay0, Length: 59946, dtype: object"
     },
     "execution_count": 9,
     "metadata": {},
     "output_type": "execute_result"
    }
   ],
   "source": [
    "cupid.essay0"
   ],
   "metadata": {
    "collapsed": false,
    "ExecuteTime": {
     "end_time": "2024-02-26T10:51:46.467614Z",
     "start_time": "2024-02-26T10:51:46.466601Z"
    }
   },
   "id": "49b5f9d333aa33f9"
  },
  {
   "cell_type": "code",
   "execution_count": 10,
   "outputs": [
    {
     "data": {
      "text/plain": "0        the way i look. i am a six foot half asian, ha...\n1                                                      NaN\n2        my large jaw and large glasses are the physica...\n3                        socially awkward but i do my best\n4                  i smile a lot and my inquisitive nature\n                               ...                        \n59941    i am told that people notice my smile, eyes an...\n59942                                  dude, i don't know.\n59943    i'm quiet until i get used to the environment ...\n59944    it used to be the hair until i mowed it off bu...\n59945    either that i am funny/sarcastic, or that i am...\nName: essay3, Length: 59946, dtype: object"
     },
     "execution_count": 10,
     "metadata": {},
     "output_type": "execute_result"
    }
   ],
   "source": [
    "cupid.essay3"
   ],
   "metadata": {
    "collapsed": false,
    "ExecuteTime": {
     "end_time": "2024-02-26T11:02:07.170764Z",
     "start_time": "2024-02-26T11:02:07.161257Z"
    }
   },
   "id": "57482b630bc78260"
  },
  {
   "cell_type": "code",
   "execution_count": 11,
   "outputs": [],
   "source": [
    "import matplotlib.pyplot as plt"
   ],
   "metadata": {
    "collapsed": false,
    "ExecuteTime": {
     "end_time": "2024-02-26T11:10:54.891077Z",
     "start_time": "2024-02-26T11:10:54.332124Z"
    }
   },
   "id": "524e3df272f279d3"
  },
  {
   "cell_type": "code",
   "execution_count": 12,
   "outputs": [
    {
     "data": {
      "text/plain": "<Axes: ylabel='Frequency'>"
     },
     "execution_count": 12,
     "metadata": {},
     "output_type": "execute_result"
    },
    {
     "data": {
      "text/plain": "<Figure size 640x480 with 1 Axes>",
      "image/png": "[encoded data removed]"
     },
     "metadata": {},
     "output_type": "display_data"
    }
   ],
   "source": [
    "cupid[[\"income\"]].plot(kind=\"hist\")"
   ],
   "metadata": {
    "collapsed": false,
    "ExecuteTime": {
     "end_time": "2024-02-26T11:11:20.589604Z",
     "start_time": "2024-02-26T11:11:20.386002Z"
    }
   },
   "id": "6e297667a262523e"
  },
  {
   "cell_type": "code",
   "execution_count": 13,
   "outputs": [
    {
     "ename": "TypeError",
     "evalue": "no numeric data to plot",
     "output_type": "error",
     "traceback": [
      "\u001B[0;31m---------------------------------------------------------------------------\u001B[0m",
      "\u001B[0;31mTypeError\u001B[0m                                 Traceback (most recent call last)",
      "Cell \u001B[0;32mIn[13], line 1\u001B[0m\n\u001B[0;32m----> 1\u001B[0m \u001B[43mcupid\u001B[49m\u001B[43m[\u001B[49m\u001B[38;5;124;43m\"\u001B[39;49m\u001B[38;5;124;43mbody_type\u001B[39;49m\u001B[38;5;124;43m\"\u001B[39;49m\u001B[43m]\u001B[49m\u001B[38;5;241;43m.\u001B[39;49m\u001B[43mplot\u001B[49m\u001B[43m(\u001B[49m\u001B[43mkind\u001B[49m\u001B[38;5;241;43m=\u001B[39;49m\u001B[38;5;124;43m\"\u001B[39;49m\u001B[38;5;124;43mbar\u001B[39;49m\u001B[38;5;124;43m\"\u001B[39;49m\u001B[43m)\u001B[49m\n",
      "File \u001B[0;32m~/opt/anaconda3/lib/python3.10/site-packages/pandas/plotting/_core.py:1031\u001B[0m, in \u001B[0;36mPlotAccessor.__call__\u001B[0;34m(self, *args, **kwargs)\u001B[0m\n\u001B[1;32m   1028\u001B[0m             label_name \u001B[38;5;241m=\u001B[39m label_kw \u001B[38;5;129;01mor\u001B[39;00m data\u001B[38;5;241m.\u001B[39mcolumns\n\u001B[1;32m   1029\u001B[0m             data\u001B[38;5;241m.\u001B[39mcolumns \u001B[38;5;241m=\u001B[39m label_name\n\u001B[0;32m-> 1031\u001B[0m \u001B[38;5;28;01mreturn\u001B[39;00m \u001B[43mplot_backend\u001B[49m\u001B[38;5;241;43m.\u001B[39;49m\u001B[43mplot\u001B[49m\u001B[43m(\u001B[49m\u001B[43mdata\u001B[49m\u001B[43m,\u001B[49m\u001B[43m \u001B[49m\u001B[43mkind\u001B[49m\u001B[38;5;241;43m=\u001B[39;49m\u001B[43mkind\u001B[49m\u001B[43m,\u001B[49m\u001B[43m \u001B[49m\u001B[38;5;241;43m*\u001B[39;49m\u001B[38;5;241;43m*\u001B[39;49m\u001B[43mkwargs\u001B[49m\u001B[43m)\u001B[49m\n",
      "File \u001B[0;32m~/opt/anaconda3/lib/python3.10/site-packages/pandas/plotting/_matplotlib/__init__.py:71\u001B[0m, in \u001B[0;36mplot\u001B[0;34m(data, kind, **kwargs)\u001B[0m\n\u001B[1;32m     69\u001B[0m         kwargs[\u001B[38;5;124m\"\u001B[39m\u001B[38;5;124max\u001B[39m\u001B[38;5;124m\"\u001B[39m] \u001B[38;5;241m=\u001B[39m \u001B[38;5;28mgetattr\u001B[39m(ax, \u001B[38;5;124m\"\u001B[39m\u001B[38;5;124mleft_ax\u001B[39m\u001B[38;5;124m\"\u001B[39m, ax)\n\u001B[1;32m     70\u001B[0m plot_obj \u001B[38;5;241m=\u001B[39m PLOT_CLASSES[kind](data, \u001B[38;5;241m*\u001B[39m\u001B[38;5;241m*\u001B[39mkwargs)\n\u001B[0;32m---> 71\u001B[0m \u001B[43mplot_obj\u001B[49m\u001B[38;5;241;43m.\u001B[39;49m\u001B[43mgenerate\u001B[49m\u001B[43m(\u001B[49m\u001B[43m)\u001B[49m\n\u001B[1;32m     72\u001B[0m plot_obj\u001B[38;5;241m.\u001B[39mdraw()\n\u001B[1;32m     73\u001B[0m \u001B[38;5;28;01mreturn\u001B[39;00m plot_obj\u001B[38;5;241m.\u001B[39mresult\n",
      "File \u001B[0;32m~/opt/anaconda3/lib/python3.10/site-packages/pandas/plotting/_matplotlib/core.py:451\u001B[0m, in \u001B[0;36mMPLPlot.generate\u001B[0;34m(self)\u001B[0m\n\u001B[1;32m    449\u001B[0m \u001B[38;5;28;01mdef\u001B[39;00m \u001B[38;5;21mgenerate\u001B[39m(\u001B[38;5;28mself\u001B[39m) \u001B[38;5;241m-\u001B[39m\u001B[38;5;241m>\u001B[39m \u001B[38;5;28;01mNone\u001B[39;00m:\n\u001B[1;32m    450\u001B[0m     \u001B[38;5;28mself\u001B[39m\u001B[38;5;241m.\u001B[39m_args_adjust()\n\u001B[0;32m--> 451\u001B[0m     \u001B[38;5;28;43mself\u001B[39;49m\u001B[38;5;241;43m.\u001B[39;49m\u001B[43m_compute_plot_data\u001B[49m\u001B[43m(\u001B[49m\u001B[43m)\u001B[49m\n\u001B[1;32m    452\u001B[0m     \u001B[38;5;28mself\u001B[39m\u001B[38;5;241m.\u001B[39m_setup_subplots()\n\u001B[1;32m    453\u001B[0m     \u001B[38;5;28mself\u001B[39m\u001B[38;5;241m.\u001B[39m_make_plot()\n",
      "File \u001B[0;32m~/opt/anaconda3/lib/python3.10/site-packages/pandas/plotting/_matplotlib/core.py:636\u001B[0m, in \u001B[0;36mMPLPlot._compute_plot_data\u001B[0;34m(self)\u001B[0m\n\u001B[1;32m    634\u001B[0m \u001B[38;5;66;03m# no non-numeric frames or series allowed\u001B[39;00m\n\u001B[1;32m    635\u001B[0m \u001B[38;5;28;01mif\u001B[39;00m is_empty:\n\u001B[0;32m--> 636\u001B[0m     \u001B[38;5;28;01mraise\u001B[39;00m \u001B[38;5;167;01mTypeError\u001B[39;00m(\u001B[38;5;124m\"\u001B[39m\u001B[38;5;124mno numeric data to plot\u001B[39m\u001B[38;5;124m\"\u001B[39m)\n\u001B[1;32m    638\u001B[0m \u001B[38;5;28mself\u001B[39m\u001B[38;5;241m.\u001B[39mdata \u001B[38;5;241m=\u001B[39m numeric_data\u001B[38;5;241m.\u001B[39mapply(\u001B[38;5;28mself\u001B[39m\u001B[38;5;241m.\u001B[39m_convert_to_ndarray)\n",
      "\u001B[0;31mTypeError\u001B[0m: no numeric data to plot"
     ]
    }
   ],
   "source": [
    "cupid[\"body_type\"].plot(kind=\"bar\")"
   ],
   "metadata": {
    "collapsed": false,
    "ExecuteTime": {
     "end_time": "2024-02-26T11:20:44.628492Z",
     "start_time": "2024-02-26T11:20:43.901761Z"
    }
   },
   "id": "e06e5835b83835ad"
  },
  {
   "cell_type": "code",
   "execution_count": null,
   "outputs": [],
   "source": [],
   "metadata": {
    "collapsed": false
   },
   "id": "e0f8049fdfe63118"
  }
 ],
 "metadata": {
  "kernelspec": {
   "display_name": "Python 3",
   "language": "python",
   "name": "python3"
  },
  "language_info": {
   "codemirror_mode": {
    "name": "ipython",
    "version": 2
   },
   "file_extension": ".py",
   "mimetype": "text/x-python",
   "name": "python",
   "nbconvert_exporter": "python",
   "pygments_lexer": "ipython2",
   "version": "2.7.6"
  }
 },
 "nbformat": 4,
 "nbformat_minor": 5
}
